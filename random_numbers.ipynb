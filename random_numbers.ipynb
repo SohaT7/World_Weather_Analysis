{
 "cells": [
  {
   "cell_type": "code",
   "execution_count": 25,
   "id": "fda90757",
   "metadata": {},
   "outputs": [],
   "source": [
    "# Import the random module.\n",
    "import random"
   ]
  },
  {
   "cell_type": "code",
   "execution_count": 26,
   "id": "730ac7d3",
   "metadata": {},
   "outputs": [
    {
     "data": {
      "text/plain": [
       "-85"
      ]
     },
     "execution_count": 26,
     "metadata": {},
     "output_type": "execute_result"
    }
   ],
   "source": [
    "# Returns a random integer between the given intervals.\n",
    "random.randint(-90, 90)"
   ]
  },
  {
   "cell_type": "code",
   "execution_count": 27,
   "id": "d35150dc",
   "metadata": {},
   "outputs": [
    {
     "data": {
      "text/plain": [
       "0.34781818817285726"
      ]
     },
     "execution_count": 27,
     "metadata": {},
     "output_type": "execute_result"
    }
   ],
   "source": [
    "# Returns a single floating-point decimal number between 0 and 1.0.\n",
    "random.random()"
   ]
  },
  {
   "cell_type": "code",
   "execution_count": 28,
   "id": "a4dfa1ef",
   "metadata": {},
   "outputs": [
    {
     "data": {
      "text/plain": [
       "56.127706395888175"
      ]
     },
     "execution_count": 28,
     "metadata": {},
     "output_type": "execute_result"
    }
   ],
   "source": [
    "# Eg: Returns values between -89.99999 and 89.99999.\n",
    "random_number = random.randint(-90, 89) + random.random()\n",
    "random_number"
   ]
  },
  {
   "cell_type": "code",
   "execution_count": 29,
   "id": "ea9f9de5",
   "metadata": {},
   "outputs": [
    {
     "data": {
      "text/plain": [
       "[17.033300070294782,\n",
       " -5.605740575401611,\n",
       " 47.55069325676285,\n",
       " -21.376250604646582,\n",
       " -1.5110424759531471,\n",
       " 62.3543292700171,\n",
       " -20.733753218695814,\n",
       " -46.20575765881342,\n",
       " 77.85470851405896,\n",
       " -21.240646137870066]"
      ]
     },
     "execution_count": 29,
     "metadata": {},
     "output_type": "execute_result"
    }
   ],
   "source": [
    "# Generating ten random floating-point decimal latitudes between -90 and 89.\n",
    "x = 1\n",
    "latitudes = []\n",
    "while x < 11:\n",
    "    random_lat = random.randint(-90, 89) + random.random()\n",
    "    latitudes.append(random_lat)\n",
    "    x += 1\n",
    "latitudes"
   ]
  },
  {
   "cell_type": "code",
   "execution_count": 31,
   "id": "84356523",
   "metadata": {},
   "outputs": [
    {
     "data": {
      "text/plain": [
       "41"
      ]
     },
     "execution_count": 31,
     "metadata": {},
     "output_type": "execute_result"
    }
   ],
   "source": [
    "# Returns integer from anywhere from the lower to upper limit with a step\n",
    "# The step is the difference between each number in the sequence.\n",
    "# If you do not add the step parameter, the default is 1 for it.\n",
    "random.randrange(-90, 90, step=1)"
   ]
  },
  {
   "cell_type": "code",
   "execution_count": 32,
   "id": "7a826360",
   "metadata": {},
   "outputs": [
    {
     "data": {
      "text/plain": [
       "21"
      ]
     },
     "execution_count": 32,
     "metadata": {},
     "output_type": "execute_result"
    }
   ],
   "source": [
    "random.randrange(-90, 90, step=3)"
   ]
  },
  {
   "cell_type": "code",
   "execution_count": null,
   "id": "d8e26819",
   "metadata": {},
   "outputs": [],
   "source": [
    "# Can combine the random.randrange() and the random.random() functions."
   ]
  },
  {
   "cell_type": "code",
   "execution_count": 33,
   "id": "034987dc",
   "metadata": {},
   "outputs": [
    {
     "data": {
      "text/plain": [
       "-86.90901215890393"
      ]
     },
     "execution_count": 33,
     "metadata": {},
     "output_type": "execute_result"
    }
   ],
   "source": [
    "# Returns a floating-point decimal number between two given numbers inside the parentheses.\n",
    "random.uniform(-90, 90)"
   ]
  },
  {
   "cell_type": "code",
   "execution_count": 34,
   "id": "6bd69219",
   "metadata": {},
   "outputs": [],
   "source": [
    "# Import the NumPy module.\n",
    "# The NumPy module has a built-in random module in it.\n",
    "import numpy as np"
   ]
  },
  {
   "cell_type": "code",
   "execution_count": 35,
   "id": "96f2f431",
   "metadata": {},
   "outputs": [
    {
     "data": {
      "text/plain": [
       "25.02544757844558"
      ]
     },
     "execution_count": 35,
     "metadata": {},
     "output_type": "execute_result"
    }
   ],
   "source": [
    "# The lower and upper boundary below are floating-opint decimal numbers.\n",
    "np.random.uniform(-90.000, 90.000)"
   ]
  },
  {
   "cell_type": "code",
   "execution_count": 36,
   "id": "68055e2a",
   "metadata": {},
   "outputs": [
    {
     "data": {
      "text/plain": [
       "42.571665938007925"
      ]
     },
     "execution_count": 36,
     "metadata": {},
     "output_type": "execute_result"
    }
   ],
   "source": [
    "# Alternatively, can write it as:\n",
    "np.random.uniform(low=-90, high=90)"
   ]
  },
  {
   "cell_type": "code",
   "execution_count": 37,
   "id": "cc863ed9",
   "metadata": {},
   "outputs": [
    {
     "data": {
      "text/plain": [
       "array([ 16.38237961, -37.49512322, -61.47768078,   0.61389642,\n",
       "        69.3267056 ,  61.76871053, -21.54286428,  11.00378618,\n",
       "       -76.88396267, -70.0902061 , -30.65208561,  87.74935502,\n",
       "        -2.37199385,  18.88468712,  53.55862487,   2.83425514,\n",
       "       -62.31715708, -43.58225201, -19.98967819, -17.67046539,\n",
       "        76.71697651,  85.08751867, -68.89501921,  54.7635368 ,\n",
       "        39.47541959,  36.03331402, -42.4616492 , -74.41474178,\n",
       "       -77.73841899,  66.74285901,  33.81720986,  55.28320925,\n",
       "       -50.3417643 , -53.28770532, -13.59293337, -15.38873906,\n",
       "        39.62398734, -54.19818196,  76.0840993 , -61.89484924,\n",
       "        41.54084046, -84.71763657,  49.27905243,  13.27955629,\n",
       "       -34.86649684, -41.28314623, -47.69340779, -46.82895159,\n",
       "       -16.55146241,  69.18217124])"
      ]
     },
     "execution_count": 37,
     "metadata": {},
     "output_type": "execute_result"
    }
   ],
   "source": [
    "# Outputs an array of 50 floating-point decimal numbers between -90.000 and 90.000.\n",
    "np.random.uniform(-90.000, 90.000, size=50)"
   ]
  },
  {
   "cell_type": "code",
   "execution_count": 38,
   "id": "c2d22e0c",
   "metadata": {},
   "outputs": [],
   "source": [
    "# To test how long a piece of code or function takes to run.\n",
    "# Import timeit.\n",
    "import timeit"
   ]
  },
  {
   "cell_type": "code",
   "execution_count": 39,
   "id": "28fc91ad",
   "metadata": {},
   "outputs": [
    {
     "name": "stdout",
     "output_type": "stream",
     "text": [
      "14.1 µs ± 268 ns per loop (mean ± std. dev. of 7 runs, 100000 loops each)\n"
     ]
    }
   ],
   "source": [
    "%timeit np.random.uniform(-90.000, 90.000, size=1500)\n",
    "\n",
    "# Takes 14.1 microseconds to run the code for 7 runs and 1,000 (?) loops per run."
   ]
  },
  {
   "cell_type": "code",
   "execution_count": 40,
   "id": "1bfac1ee",
   "metadata": {},
   "outputs": [
    {
     "name": "stdout",
     "output_type": "stream",
     "text": [
      "1.42 ms ± 13.7 µs per loop (mean ± std. dev. of 7 runs, 1000 loops each)\n"
     ]
    }
   ],
   "source": [
    "# To compare with how long a while loop would take for the same:\n",
    "\n",
    "def latitudes(size):\n",
    "    latitudes = []\n",
    "    x = 0\n",
    "    while x < (size):\n",
    "        random_lat = random.randint(-90, 90) + random.random()\n",
    "        latitudes.append(random_lat)\n",
    "        x += 1\n",
    "    return latitudes\n",
    "# Call the function with 1500.\n",
    "%timeit latitudes(1500)\n",
    "\n",
    "\n",
    "# This takes 1.42 milliseconds."
   ]
  },
  {
   "cell_type": "code",
   "execution_count": null,
   "id": "ad9425e8",
   "metadata": {},
   "outputs": [],
   "source": [
    "# Skill Drill: Write the above but with a For (instead of While) loop.\n"
   ]
  },
  {
   "cell_type": "code",
   "execution_count": null,
   "id": "b4bbe402",
   "metadata": {},
   "outputs": [],
   "source": []
  }
 ],
 "metadata": {
  "kernelspec": {
   "display_name": "PythonData",
   "language": "python",
   "name": "pythondata"
  },
  "language_info": {
   "codemirror_mode": {
    "name": "ipython",
    "version": 3
   },
   "file_extension": ".py",
   "mimetype": "text/x-python",
   "name": "python",
   "nbconvert_exporter": "python",
   "pygments_lexer": "ipython3",
   "version": "3.9.7"
  }
 },
 "nbformat": 4,
 "nbformat_minor": 5
}
